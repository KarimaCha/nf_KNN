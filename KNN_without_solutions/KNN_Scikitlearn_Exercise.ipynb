{
 "cells": [
  {
   "cell_type": "markdown",
   "metadata": {},
   "source": [
    "We are going to use the famous iris data set for our KNN example. \n",
    "\n",
    "\n",
    "The dataset consists of four attributes: sepal-width, sepal-length, petal-width and petal-length. \n",
    "\n",
    "\n",
    "\n",
    "These are the attributes of specific types of iris plant. \n",
    "\n",
    "\n",
    "The task is to predict the class to which these plants belong. There are three classes in the dataset: Iris-setosa, Iris-versicolor and Iris-virginica. \n",
    "\n",
    "\n",
    "Further details of the dataset are available here.\n",
    "https://scikit-learn.org/stable/auto_examples/datasets/plot_iris_dataset.html"
   ]
  },
  {
   "cell_type": "markdown",
   "metadata": {},
   "source": [
    "## Question"
   ]
  },
  {
   "cell_type": "markdown",
   "metadata": {},
   "source": [
    "Please import, preprocess the data, train-test split, feature scale it, make predictions, and please evaluate it. "
   ]
  },
  {
   "cell_type": "markdown",
   "metadata": {},
   "source": [
    "Please also calculate the error rate for K values of 1 to 40. "
   ]
  },
  {
   "cell_type": "markdown",
   "metadata": {},
   "source": [
    "In each iteration the mean error for predicted values of test set is calculated and the result is appended to the error list.\n",
    "\n",
    "The next step is to plot the error values against K values."
   ]
  },
  {
   "cell_type": "markdown",
   "metadata": {
    "collapsed": true
   },
   "source": [
    "---\n",
    "## 1) Import packages and dataset"
   ]
  },
  {
   "cell_type": "code",
   "execution_count": 28,
   "metadata": {},
   "outputs": [],
   "source": [
    "# import packages\n",
    "\n",
    "import pandas as pd\n",
    "import numpy as np\n",
    "from sklearn.model_selection import train_test_split\n",
    "from sklearn.metrics import confusion_matrix, accuracy_score, classification_report, precision_score, recall_score, mean_absolute_error\n",
    "from sklearn.neighbors import KNeighborsClassifier\n",
    "from sklearn.preprocessing import StandardScaler\n",
    "from sklearn import preprocessing  # for label encoding of iris dataset\n",
    "import matplotlib.pyplot as plt"
   ]
  },
  {
   "cell_type": "code",
   "execution_count": 2,
   "metadata": {},
   "outputs": [
    {
     "data": {
      "text/html": [
       "<div>\n",
       "<style scoped>\n",
       "    .dataframe tbody tr th:only-of-type {\n",
       "        vertical-align: middle;\n",
       "    }\n",
       "\n",
       "    .dataframe tbody tr th {\n",
       "        vertical-align: top;\n",
       "    }\n",
       "\n",
       "    .dataframe thead th {\n",
       "        text-align: right;\n",
       "    }\n",
       "</style>\n",
       "<table border=\"1\" class=\"dataframe\">\n",
       "  <thead>\n",
       "    <tr style=\"text-align: right;\">\n",
       "      <th></th>\n",
       "      <th>sepal_length</th>\n",
       "      <th>sepal_width</th>\n",
       "      <th>petal_length</th>\n",
       "      <th>petal_width</th>\n",
       "      <th>species</th>\n",
       "    </tr>\n",
       "  </thead>\n",
       "  <tbody>\n",
       "    <tr>\n",
       "      <th>0</th>\n",
       "      <td>5.1</td>\n",
       "      <td>3.5</td>\n",
       "      <td>1.4</td>\n",
       "      <td>0.2</td>\n",
       "      <td>Iris-setosa</td>\n",
       "    </tr>\n",
       "    <tr>\n",
       "      <th>1</th>\n",
       "      <td>4.9</td>\n",
       "      <td>3.0</td>\n",
       "      <td>1.4</td>\n",
       "      <td>0.2</td>\n",
       "      <td>Iris-setosa</td>\n",
       "    </tr>\n",
       "    <tr>\n",
       "      <th>2</th>\n",
       "      <td>4.7</td>\n",
       "      <td>3.2</td>\n",
       "      <td>1.3</td>\n",
       "      <td>0.2</td>\n",
       "      <td>Iris-setosa</td>\n",
       "    </tr>\n",
       "  </tbody>\n",
       "</table>\n",
       "</div>"
      ],
      "text/plain": [
       "   sepal_length  sepal_width  petal_length  petal_width      species\n",
       "0           5.1          3.5           1.4          0.2  Iris-setosa\n",
       "1           4.9          3.0           1.4          0.2  Iris-setosa\n",
       "2           4.7          3.2           1.3          0.2  Iris-setosa"
      ]
     },
     "execution_count": 2,
     "metadata": {},
     "output_type": "execute_result"
    }
   ],
   "source": [
    "# import iris dataset\n",
    "\n",
    "iris = pd.read_csv('iris.csv')\n",
    "iris.head(3)"
   ]
  },
  {
   "cell_type": "markdown",
   "metadata": {},
   "source": [
    "---\n",
    "## 2) Preprocessing of data"
   ]
  },
  {
   "cell_type": "code",
   "execution_count": 3,
   "metadata": {},
   "outputs": [
    {
     "data": {
      "text/html": [
       "<div>\n",
       "<style scoped>\n",
       "    .dataframe tbody tr th:only-of-type {\n",
       "        vertical-align: middle;\n",
       "    }\n",
       "\n",
       "    .dataframe tbody tr th {\n",
       "        vertical-align: top;\n",
       "    }\n",
       "\n",
       "    .dataframe thead th {\n",
       "        text-align: right;\n",
       "    }\n",
       "</style>\n",
       "<table border=\"1\" class=\"dataframe\">\n",
       "  <thead>\n",
       "    <tr style=\"text-align: right;\">\n",
       "      <th></th>\n",
       "      <th>sepal_length</th>\n",
       "      <th>sepal_width</th>\n",
       "      <th>petal_length</th>\n",
       "      <th>petal_width</th>\n",
       "      <th>species</th>\n",
       "    </tr>\n",
       "  </thead>\n",
       "  <tbody>\n",
       "    <tr>\n",
       "      <th>0</th>\n",
       "      <td>5.1</td>\n",
       "      <td>3.5</td>\n",
       "      <td>1.4</td>\n",
       "      <td>0.2</td>\n",
       "      <td>0</td>\n",
       "    </tr>\n",
       "    <tr>\n",
       "      <th>1</th>\n",
       "      <td>4.9</td>\n",
       "      <td>3.0</td>\n",
       "      <td>1.4</td>\n",
       "      <td>0.2</td>\n",
       "      <td>0</td>\n",
       "    </tr>\n",
       "    <tr>\n",
       "      <th>2</th>\n",
       "      <td>4.7</td>\n",
       "      <td>3.2</td>\n",
       "      <td>1.3</td>\n",
       "      <td>0.2</td>\n",
       "      <td>0</td>\n",
       "    </tr>\n",
       "  </tbody>\n",
       "</table>\n",
       "</div>"
      ],
      "text/plain": [
       "   sepal_length  sepal_width  petal_length  petal_width  species\n",
       "0           5.1          3.5           1.4          0.2        0\n",
       "1           4.9          3.0           1.4          0.2        0\n",
       "2           4.7          3.2           1.3          0.2        0"
      ]
     },
     "execution_count": 3,
     "metadata": {},
     "output_type": "execute_result"
    }
   ],
   "source": [
    "# transform species labels to numbers\n",
    "\n",
    "le = preprocessing.LabelEncoder()\n",
    "le.fit(iris.species.unique())\n",
    "species = le.transform(iris.species)\n",
    "iris.species = species\n",
    "iris.head(3)"
   ]
  },
  {
   "cell_type": "code",
   "execution_count": 4,
   "metadata": {},
   "outputs": [],
   "source": [
    "# independent variables (features)\n",
    "X_raw = iris.drop('species', axis=1)\n",
    "\n",
    "# dependent variable (class = species)\n",
    "y = iris.species"
   ]
  },
  {
   "cell_type": "code",
   "execution_count": 5,
   "metadata": {},
   "outputs": [
    {
     "name": "stdout",
     "output_type": "stream",
     "text": [
      "StandardScaler(copy=True, with_mean=True, with_std=True)\n",
      "[5.84333333 3.054      3.75866667 1.19866667]\n"
     ]
    }
   ],
   "source": [
    "# Feature Scaling (standardize features by removing the mean and scaling to unit variance)\n",
    "\n",
    "scaler = StandardScaler()\n",
    "print(scaler.fit(X_raw))     # computes the mean and std to be used for later scaling\n",
    "print(scaler.mean_)\n",
    "X = scaler.transform(X_raw)  # performs standardization by centering and scaling\n",
    "\n",
    "X = pd.DataFrame(X, columns = X_raw.columns)"
   ]
  },
  {
   "cell_type": "code",
   "execution_count": 6,
   "metadata": {},
   "outputs": [
    {
     "name": "stdout",
     "output_type": "stream",
     "text": [
      "sepal_length   -0.0\n",
      "sepal_width    -0.0\n",
      "petal_length    0.0\n",
      "petal_width     0.0\n",
      "dtype: float64\n",
      "sepal_length    1.0\n",
      "sepal_width     1.0\n",
      "petal_length    1.0\n",
      "petal_width     1.0\n",
      "dtype: float64\n"
     ]
    }
   ],
   "source": [
    "# check standardization \n",
    "print(X.mean().round(2))\n",
    "print(X.std().round(2))"
   ]
  },
  {
   "cell_type": "code",
   "execution_count": 7,
   "metadata": {},
   "outputs": [
    {
     "data": {
      "text/plain": [
       "((112, 4), (38, 4), (112,), (38,))"
      ]
     },
     "execution_count": 7,
     "metadata": {},
     "output_type": "execute_result"
    }
   ],
   "source": [
    "# train test splitting before KNN\n",
    "\n",
    "X_train, X_test, y_train, y_test = train_test_split(X, y, test_size=0.25, random_state=0)  # default test size\n",
    "X_train.shape, X_test.shape, y_train.shape, y_test.shape"
   ]
  },
  {
   "cell_type": "markdown",
   "metadata": {},
   "source": [
    "## 3) KNN - first example"
   ]
  },
  {
   "cell_type": "code",
   "execution_count": 8,
   "metadata": {},
   "outputs": [
    {
     "data": {
      "text/plain": [
       "KNeighborsClassifier(algorithm='auto', leaf_size=30, metric='euclidean',\n",
       "                     metric_params=None, n_jobs=None, n_neighbors=5, p=2,\n",
       "                     weights='uniform')"
      ]
     },
     "execution_count": 8,
     "metadata": {},
     "output_type": "execute_result"
    }
   ],
   "source": [
    "# fit KNN to training data\n",
    "\n",
    "k = 5\n",
    "knn = KNeighborsClassifier(n_neighbors= k, metric='euclidean')  # same as defaults: p=2, metric='minkowski'\n",
    "knn.fit(X_train, y_train.values.ravel())"
   ]
  },
  {
   "cell_type": "code",
   "execution_count": 9,
   "metadata": {},
   "outputs": [
    {
     "data": {
      "text/plain": [
       "(array([2, 1, 0, 2, 0, 2, 0, 1, 1, 1, 2, 1, 1, 1, 1, 0, 1, 1, 0, 0, 2, 1,\n",
       "        0, 0, 2, 0, 0, 1, 1, 0, 2, 1, 0, 2, 2, 1, 0, 2]),\n",
       " array([2, 1, 0, 2, 0, 2, 0, 1, 1, 1, 2, 1, 1, 1, 1, 0, 1, 1, 0, 0, 2, 1,\n",
       "        0, 0, 2, 0, 0, 1, 1, 0, 2, 1, 0, 2, 2, 1, 0, 1]))"
      ]
     },
     "execution_count": 9,
     "metadata": {},
     "output_type": "execute_result"
    }
   ],
   "source": [
    "# make predictions for testing data\n",
    "y_pred = knn.predict(X_test)\n",
    "y_pred, y_test.ravel()"
   ]
  },
  {
   "cell_type": "code",
   "execution_count": 10,
   "metadata": {},
   "outputs": [
    {
     "data": {
      "text/plain": [
       "1"
      ]
     },
     "execution_count": 10,
     "metadata": {},
     "output_type": "execute_result"
    }
   ],
   "source": [
    "(y_test != y_pred).sum()"
   ]
  },
  {
   "cell_type": "code",
   "execution_count": 11,
   "metadata": {},
   "outputs": [
    {
     "data": {
      "text/plain": [
       "array([[13,  0,  0],\n",
       "       [ 0, 15,  1],\n",
       "       [ 0,  0,  9]])"
      ]
     },
     "execution_count": 11,
     "metadata": {},
     "output_type": "execute_result"
    }
   ],
   "source": [
    "confusion_matrix(y_test, y_pred)"
   ]
  },
  {
   "cell_type": "code",
   "execution_count": 12,
   "metadata": {},
   "outputs": [
    {
     "data": {
      "text/plain": [
       "0.9736842105263158"
      ]
     },
     "execution_count": 12,
     "metadata": {},
     "output_type": "execute_result"
    }
   ],
   "source": [
    "accuracy_score(y_test, y_pred)"
   ]
  },
  {
   "cell_type": "code",
   "execution_count": 13,
   "metadata": {},
   "outputs": [
    {
     "name": "stdout",
     "output_type": "stream",
     "text": [
      "              precision    recall  f1-score   support\n",
      "\n",
      "           0       1.00      1.00      1.00        13\n",
      "           1       1.00      0.94      0.97        16\n",
      "           2       0.90      1.00      0.95         9\n",
      "\n",
      "    accuracy                           0.97        38\n",
      "   macro avg       0.97      0.98      0.97        38\n",
      "weighted avg       0.98      0.97      0.97        38\n",
      "\n"
     ]
    }
   ],
   "source": [
    "print(classification_report(y_test, y_pred))"
   ]
  },
  {
   "cell_type": "code",
   "execution_count": 14,
   "metadata": {},
   "outputs": [
    {
     "data": {
      "image/png": "[encoded data removed]",
      "text/plain": [
       "<Figure size 576x360 with 1 Axes>"
      ]
     },
     "metadata": {
      "needs_background": "light"
     },
     "output_type": "display_data"
    }
   ],
   "source": [
    "# check if predicted values are reasonable by plotting (without border = training data, with border = predicted data)\n",
    "\n",
    "fig, ax = plt.subplots(figsize=(8,5))\n",
    "\n",
    "# training points\n",
    "x1_train = X_train.sepal_length * X_train.sepal_width\n",
    "x2_train = X_train.petal_length * X_train.petal_width\n",
    "plt.scatter(x1_train,x2_train,c=y_train,s=50, cmap='cool', alpha=0.8)\n",
    "\n",
    "# predicted points\n",
    "x1_test = X_test.sepal_length * X_test.sepal_width\n",
    "x2_test = X_test.petal_length * X_test.petal_width\n",
    "plt.scatter(x1_test,x2_test,c=np.array(y_pred), cmap='cool', s=50, alpha=0.8, edgecolor='k')  # , cmap='cool'\n",
    "\n",
    "plt.xlabel('sepal area')\n",
    "plt.ylabel('petal area');"
   ]
  },
  {
   "cell_type": "markdown",
   "metadata": {},
   "source": [
    "## 3) KNN - try different k"
   ]
  },
  {
   "cell_type": "code",
   "execution_count": 31,
   "metadata": {},
   "outputs": [],
   "source": [
    "# Calculate the error rate for K values of 1 to 40. In each iteration the mean error for \n",
    "# predicted values of test set is calculated and the result is appended to the error list\n",
    "\n",
    "knn_errors = []    # empty list to store prediction errors\n",
    "knn_mae = []       # empty list to store mean absolute errors\n",
    "knn_acc = []       # empty list to store accuracy scores\n",
    "knn_prec = []      # \n",
    "knn_recall = []    # \n",
    "    \n",
    "for k in range(1,41):\n",
    "    \n",
    "    # fit KNN to training data\n",
    "    knn = KNeighborsClassifier(n_neighbors= k, metric='euclidean')  # same as defaults: p=2, metric='minkowski'\n",
    "    knn.fit(X_train, y_train.values.ravel())\n",
    "    \n",
    "    # make predictions for testing data\n",
    "    y_pred = knn.predict(X_test)\n",
    "    \n",
    "    # calculate accuracy score, precision, and recall\n",
    "    knn_acc.append(accuracy_score(y_test, y_pred))\n",
    "    knn_prec.append(precision_score(y_test, y_pred, average='micro'))\n",
    "    knn_recall.append(recall_score(y_test, y_pred, average='micro'))\n",
    "    \n",
    "    # calculate errors\n",
    "    error = (y_test != y_pred).sum()\n",
    "    knn_errors.append(error)\n",
    "    knn_mae.append(mean_absolute_error(y_test, y_pred))"
   ]
  },
  {
   "cell_type": "code",
   "execution_count": 32,
   "metadata": {},
   "outputs": [
    {
     "data": {
      "image/png": "[encoded data removed]",
      "text/plain": [
       "<Figure size 1080x720 with 4 Axes>"
      ]
     },
     "metadata": {
      "needs_background": "light"
     },
     "output_type": "display_data"
    }
   ],
   "source": [
    "# plot the error values against K values\n",
    "\n",
    "fig, ax = plt.subplots(2,2, figsize=(15,10))\n",
    "\n",
    "plt.subplot(221)\n",
    "plt.plot(np.arange(1,41), knn_errors, 'r');\n",
    "plt.xlabel('k')\n",
    "plt.ylabel('prediction errors')\n",
    "\n",
    "plt.subplot(222)\n",
    "plt.plot(np.arange(1,41), knn_mae, 'b');\n",
    "plt.xlabel('k')\n",
    "plt.ylabel('mean absolute error'); #accuracy score');\n",
    "\n",
    "plt.subplot(223)\n",
    "plt.plot(np.arange(1,41), knn_prec, 'g');\n",
    "plt.xlabel('k')\n",
    "plt.ylabel('precision score')\n",
    "\n",
    "plt.subplot(224)\n",
    "plt.plot(np.arange(1,41), knn_recall, 'm');\n",
    "plt.xlabel('k')\n",
    "plt.ylabel('recall score');\n",
    "\n"
   ]
  },
  {
   "cell_type": "markdown",
   "metadata": {},
   "source": [
    "## 4) KNN - try different distance metrics"
   ]
  },
  {
   "cell_type": "code",
   "execution_count": 26,
   "metadata": {},
   "outputs": [],
   "source": [
    "# Calculate the error rate for K values of 1 to 40. In each iteration the mean error for \n",
    "# predicted values of test set is calculated and the result is appended to the error list\n",
    "\n",
    "knn_errors = []    # empty list to store prediction errors\n",
    "knn_acc = []       # empty list to store accuracy scores\n",
    "knn_prec = []      # \n",
    "knn_recall = []    # \n",
    "\n",
    "k = 5\n",
    "\n",
    "for p in range(1,21):\n",
    "    \n",
    "    # fit KNN to training data\n",
    "    knn = KNeighborsClassifier(n_neighbors= k, metric='minkowski', p=p)  # same as defaults: p=2, metric='minkowski'\n",
    "    knn.fit(X_train, y_train.values.ravel())\n",
    "    \n",
    "    # make predictions for testing data\n",
    "    y_pred = knn.predict(X_test)\n",
    "    \n",
    "    # calculate accuracy score, precision, and recall\n",
    "    knn_acc.append(accuracy_score(y_test, y_pred))\n",
    "    knn_prec.append(precision_score(y_test, y_pred, average='micro'))\n",
    "    knn_recall.append(recall_score(y_test, y_pred, average='micro'))\n",
    "    \n",
    "    # calculate errors\n",
    "    error = (y_test != y_pred).sum()\n",
    "    mae = mean_absolute_error(y_test, y_pred)\n",
    "    knn_errors.append(error)"
   ]
  },
  {
   "cell_type": "code",
   "execution_count": 23,
   "metadata": {},
   "outputs": [
    {
     "data": {
      "image/png": "[encoded data removed]",
      "text/plain": [
       "<Figure size 1080x720 with 4 Axes>"
      ]
     },
     "metadata": {
      "needs_background": "light"
     },
     "output_type": "display_data"
    }
   ],
   "source": [
    "# plot the error values against K values\n",
    "\n",
    "fig, ax = plt.subplots(2,2, figsize=(15,10))\n",
    "\n",
    "plt.subplot(221)\n",
    "plt.plot(np.arange(1,21), knn_errors, 'r');\n",
    "plt.xlabel('p')\n",
    "plt.ylabel('prediction errors')\n",
    "\n",
    "plt.subplot(222)\n",
    "plt.plot(np.arange(1,21), knn_acc, 'b');\n",
    "plt.xlabel('p')\n",
    "plt.ylabel('accuracy score');\n",
    "\n",
    "plt.subplot(223)\n",
    "plt.plot(np.arange(1,21), knn_prec, 'g');\n",
    "plt.xlabel('p')\n",
    "plt.ylabel('precision score')\n",
    "\n",
    "plt.subplot(224)\n",
    "plt.plot(np.arange(1,21), knn_recall, 'm');\n",
    "plt.xlabel('p')\n",
    "plt.ylabel('recall score');"
   ]
  },
  {
   "cell_type": "code",
   "execution_count": null,
   "metadata": {},
   "outputs": [],
   "source": []
  }
 ],
 "metadata": {
  "kernelspec": {
   "display_name": "Python 3",
   "language": "python",
   "name": "python3"
  },
  "language_info": {
   "codemirror_mode": {
    "name": "ipython",
    "version": 3
   },
   "file_extension": ".py",
   "mimetype": "text/x-python",
   "name": "python",
   "nbconvert_exporter": "python",
   "pygments_lexer": "ipython3",
   "version": "3.6.6"
  }
 },
 "nbformat": 4,
 "nbformat_minor": 2
}
