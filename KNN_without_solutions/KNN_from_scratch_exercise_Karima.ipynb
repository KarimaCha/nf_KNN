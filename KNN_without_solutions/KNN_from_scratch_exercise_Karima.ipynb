{
 "cells": [
  {
   "cell_type": "markdown",
   "metadata": {},
   "source": [
    "The KNN algorithm is very simple to implement, as it does not need to be trained. The training phase merely stores the training data. For each test point, we calculate the distance of that data point to every existing data point and find the $K$ closest ones. What we return is the the most common amongst the top k classification nearest to the test point. Here's the pseudocode for _K_ Nearest Neighbors:\n",
    "\n",
    "```\n",
    "kNN:\n",
    "\n",
    "    Learn:\n",
    "        Store training set T to X_train: X_train <-- T\n",
    "\n",
    "\n",
    "    Predict:\n",
    "        for every point xp in X_predict:\n",
    "            for every point x in X_train:\n",
    "                calculate the distance d in D between x and xp\n",
    "            sort D in increasing order\n",
    "            take the \"k\" items in X_train with the smallest distances to x\n",
    "            return the majority class among these k items\n",
    "```\n",
    "\n",
    "Note that for large data sets, the algorithm can take very long to classify because it has to calculate the distance between the test point and evey other point in the data!\n"
   ]
  },
  {
   "cell_type": "markdown",
   "metadata": {},
   "source": []
  },
  {
   "cell_type": "markdown",
   "metadata": {},
   "source": [
    "# Distance Metrics - Note"
   ]
  },
  {
   "cell_type": "markdown",
   "metadata": {},
   "source": [
    "As explained above, KNN assigns a class to the test point based on the majority class of  KK  nearest neighbours. In general, euclidean distance is used to find nearest neighbours, but other distance metrics can also be used.\n",
    "\n",
    "As the dimensionality of the feature space increases, the euclidean distance often becomes problematic due to the curse of dimensionality (discussed later).\n",
    "\n",
    "In such cases, alternative vector-based similarity measures (dot product, cosine similarity, etc) are used to find the nearest neighbours. This transforms the original metric space into one more amicable to point-to-point measurements.\n",
    "\n",
    "Another distance measure that you might consider is Mahalanobis distance. Here's the wikipedia page on Mahalanobis distance. https://en.wikipedia.org/wiki/Mahalanobis_distance Mahalanobis distance attempts to weight features according to their probabilities. On some data sets that may be important.\n",
    "\n",
    "In general, it's probably a good idea to normalize the data at a minimum. Here's a link to the scikit learn scaling package. http://scikit-learn.org/stable/modules/generated/sklearn.preprocessing.StandardScaler.html . You have to be a little circumspect about employing any technique where the answers change with scaling."
   ]
  },
  {
   "cell_type": "markdown",
   "metadata": {},
   "source": [
    "## Import packages"
   ]
  },
  {
   "cell_type": "code",
   "execution_count": 1,
   "metadata": {},
   "outputs": [],
   "source": [
    "import pandas as pd\n",
    "import numpy as np\n",
    "from sklearn.model_selection import train_test_split\n",
    "from sklearn import preprocessing  # for label encoding of iris dataset\n",
    "from scipy import stats   # for stats.mode\n",
    "import matplotlib.pyplot as plt"
   ]
  },
  {
   "cell_type": "markdown",
   "metadata": {},
   "source": [
    "## Distance metric function"
   ]
  },
  {
   "cell_type": "code",
   "execution_count": 2,
   "metadata": {},
   "outputs": [],
   "source": [
    "# function to compute distance metrics (Manhattan, Euclidean, Minkowski)\n",
    "   # or use: from scipy.spatial import distance\n",
    "    \n",
    "def distance(pt1, pt2, c=2, verbose=False):\n",
    "    metrics = ['Manhattan', 'Euclidean', 'Minkowski']\n",
    "    if verbose:\n",
    "        if c<3:\n",
    "            print('This distance metric is a measurement of {}'.format(metrics[c-1]))\n",
    "        else:\n",
    "            print('This distance metric is a measurement of Minkowski with order {}'.format(c))\n",
    "    dist = np.power(sum([np.abs(xi-yi)**c for xi, yi in zip(pt1, pt2)]),1/c)\n",
    "    return dist"
   ]
  },
  {
   "cell_type": "markdown",
   "metadata": {},
   "source": [
    "## KNN function"
   ]
  },
  {
   "cell_type": "code",
   "execution_count": 3,
   "metadata": {},
   "outputs": [],
   "source": [
    "# function to implement KNN algorithm\n",
    "\n",
    "def KNN(X_train, X_predict, k=3):\n",
    "    \n",
    "    P = []                  # empty list to store predicted labels\n",
    "    \n",
    "    # for every point xp in X_predict\n",
    "    for xp in X_predict:    \n",
    "        \n",
    "        D = []                  # empty list to store index/distance tuples\n",
    "        \n",
    "        # for every point xt in X_train\n",
    "        for i_t, xt in enumerate(X_train):  \n",
    "            \n",
    "            # if xp holds only one feature, put it in a list (necessary for the distance function called below)\n",
    "            if type(xp)==int:  \n",
    "                xp = [xp]\n",
    "            \n",
    "            # calculate the distance d in D between xp and xt\n",
    "            d = distance(list(xp), list(xt[:-1]))    # exclude last column of X_train (which holds the labels)\n",
    "            D.append((d, i_t))    \n",
    "            \n",
    "        # sort D in increasing order (by distance)\n",
    "        D_sorted = sorted(D)   # D.sort(key.operator.itemgetter(1))\n",
    "        \n",
    "        # take the \"k\" items in X_train with the smallest distances to xp\n",
    "        k_nearest = D_sorted[:k]\n",
    "        #print(xp, k_nearest)\n",
    "        \n",
    "        # return the majority class (i.e. the mode) among these k items\n",
    "        pred = stats.mode([X_train[i][-1] for (d,i) in k_nearest]).mode[0]\n",
    "        #print(xp, pred)\n",
    "        \n",
    "        # add prediction for xp to the output list\n",
    "        P.append(pred.squeeze())\n",
    "        \n",
    "    return P"
   ]
  },
  {
   "cell_type": "code",
   "execution_count": 19,
   "metadata": {},
   "outputs": [
    {
     "name": "stdout",
     "output_type": "stream",
     "text": [
      "ModeResult(mode=array([2]), count=array([2]))\n",
      "2\n"
     ]
    }
   ],
   "source": [
    "'''Use this instead of stats.mode to avoid errors when there are 2 modes in the data (for even k's)\n",
    "\n",
    "import statistics\n",
    "def find_min_mode(list1):\n",
    "    list_table = statistics._counts(list1)\n",
    "    len_table = len(list_table)\n",
    "\n",
    "    if len_table == 1:\n",
    "        max_mode = statistics.mode(list1)\n",
    "    else:\n",
    "        new_list = []\n",
    "        for i in range(len_table):\n",
    "            new_list.append(list_table[i][0])\n",
    "        max_mode = min(new_list) # use the min value here\n",
    "    return max_mode'''\n",
    "\n",
    "# But stats.mode also picks the minimum of the two modes, so no need for that\n",
    "a = (1,2,3,3,2)\n",
    "print(stats.mode(a))\n",
    "print(stats.mode(a).mode[0])"
   ]
  },
  {
   "cell_type": "markdown",
   "metadata": {},
   "source": [
    "## Dataset 1: Pineapples on Pizza (with 1 feature)"
   ]
  },
  {
   "cell_type": "code",
   "execution_count": 4,
   "metadata": {},
   "outputs": [],
   "source": [
    "# Dataset 1: Classification Data for \"Who likes pineapples on pizza?\" (only 1 feature)\n",
    "\n",
    "# https://towardsdatascience.com/machine-learning-basics-with-the-k-nearest-neighbors-algorithm-6a6e71d01761\n",
    "    # Column 0: age\n",
    "    # Column 1: likes pineapple\n",
    "    \n",
    "clf_data = [\n",
    "       [22, 1],\n",
    "       [23, 1],\n",
    "       [21, 1],\n",
    "       [18, 1],\n",
    "       [19, 1],\n",
    "       [25, 0],\n",
    "       [27, 0],\n",
    "       [29, 0],\n",
    "       [31, 0],\n",
    "       [45, 0]]\n",
    "\n",
    "X_train_1 = clf_data\n",
    "X_predict_1 = [20, 37, 38]"
   ]
  },
  {
   "cell_type": "code",
   "execution_count": 5,
   "metadata": {},
   "outputs": [
    {
     "data": {
      "text/plain": [
       "[1, 0, 0]"
      ]
     },
     "execution_count": 5,
     "metadata": {},
     "output_type": "execute_result"
    }
   ],
   "source": [
    "# KNN of first dataset (only 1 feature)\n",
    "\n",
    "y_pred_1 = KNN(X_train_1, X_predict_1, k=3)\n",
    "y_pred_1"
   ]
  },
  {
   "cell_type": "code",
   "execution_count": 6,
   "metadata": {},
   "outputs": [
    {
     "data": {
      "image/png": "[encoded data removed]",
      "text/plain": [
       "<Figure size 432x288 with 1 Axes>"
      ]
     },
     "metadata": {
      "needs_background": "light"
     },
     "output_type": "display_data"
    }
   ],
   "source": [
    "# check if predicted values are reasonable by plotting (blue = training data, red = predicted data)\n",
    "\n",
    "for points in X_train_1:\n",
    "     plt.plot(points[0], points[1], 'b.')\n",
    "for points in zip(X_predict_1,y_pred_1):\n",
    "     plt.plot(points[0], points[1], 'r.')   \n",
    "plt.ylabel('likes pineapples on pizza')\n",
    "plt.xlabel('age');"
   ]
  },
  {
   "cell_type": "markdown",
   "metadata": {},
   "source": [
    "## Dataset 2: Iris (with 4 features)"
   ]
  },
  {
   "cell_type": "code",
   "execution_count": 7,
   "metadata": {},
   "outputs": [
    {
     "data": {
      "text/html": [
       "<div>\n",
       "<style scoped>\n",
       "    .dataframe tbody tr th:only-of-type {\n",
       "        vertical-align: middle;\n",
       "    }\n",
       "\n",
       "    .dataframe tbody tr th {\n",
       "        vertical-align: top;\n",
       "    }\n",
       "\n",
       "    .dataframe thead th {\n",
       "        text-align: right;\n",
       "    }\n",
       "</style>\n",
       "<table border=\"1\" class=\"dataframe\">\n",
       "  <thead>\n",
       "    <tr style=\"text-align: right;\">\n",
       "      <th></th>\n",
       "      <th>sepal_length</th>\n",
       "      <th>sepal_width</th>\n",
       "      <th>petal_length</th>\n",
       "      <th>petal_width</th>\n",
       "      <th>species</th>\n",
       "    </tr>\n",
       "  </thead>\n",
       "  <tbody>\n",
       "    <tr>\n",
       "      <th>0</th>\n",
       "      <td>5.1</td>\n",
       "      <td>3.5</td>\n",
       "      <td>1.4</td>\n",
       "      <td>0.2</td>\n",
       "      <td>Iris-setosa</td>\n",
       "    </tr>\n",
       "    <tr>\n",
       "      <th>1</th>\n",
       "      <td>4.9</td>\n",
       "      <td>3.0</td>\n",
       "      <td>1.4</td>\n",
       "      <td>0.2</td>\n",
       "      <td>Iris-setosa</td>\n",
       "    </tr>\n",
       "    <tr>\n",
       "      <th>2</th>\n",
       "      <td>4.7</td>\n",
       "      <td>3.2</td>\n",
       "      <td>1.3</td>\n",
       "      <td>0.2</td>\n",
       "      <td>Iris-setosa</td>\n",
       "    </tr>\n",
       "  </tbody>\n",
       "</table>\n",
       "</div>"
      ],
      "text/plain": [
       "   sepal_length  sepal_width  petal_length  petal_width      species\n",
       "0           5.1          3.5           1.4          0.2  Iris-setosa\n",
       "1           4.9          3.0           1.4          0.2  Iris-setosa\n",
       "2           4.7          3.2           1.3          0.2  Iris-setosa"
      ]
     },
     "execution_count": 7,
     "metadata": {},
     "output_type": "execute_result"
    }
   ],
   "source": [
    "# Dataset 2: Iris data (4 features)\n",
    "\n",
    "iris = pd.read_csv('iris.csv')\n",
    "iris.head(3)"
   ]
  },
  {
   "cell_type": "code",
   "execution_count": 8,
   "metadata": {},
   "outputs": [
    {
     "data": {
      "text/html": [
       "<div>\n",
       "<style scoped>\n",
       "    .dataframe tbody tr th:only-of-type {\n",
       "        vertical-align: middle;\n",
       "    }\n",
       "\n",
       "    .dataframe tbody tr th {\n",
       "        vertical-align: top;\n",
       "    }\n",
       "\n",
       "    .dataframe thead th {\n",
       "        text-align: right;\n",
       "    }\n",
       "</style>\n",
       "<table border=\"1\" class=\"dataframe\">\n",
       "  <thead>\n",
       "    <tr style=\"text-align: right;\">\n",
       "      <th></th>\n",
       "      <th>sepal_length</th>\n",
       "      <th>sepal_width</th>\n",
       "      <th>petal_length</th>\n",
       "      <th>petal_width</th>\n",
       "      <th>species</th>\n",
       "    </tr>\n",
       "  </thead>\n",
       "  <tbody>\n",
       "    <tr>\n",
       "      <th>0</th>\n",
       "      <td>5.1</td>\n",
       "      <td>3.5</td>\n",
       "      <td>1.4</td>\n",
       "      <td>0.2</td>\n",
       "      <td>0</td>\n",
       "    </tr>\n",
       "    <tr>\n",
       "      <th>1</th>\n",
       "      <td>4.9</td>\n",
       "      <td>3.0</td>\n",
       "      <td>1.4</td>\n",
       "      <td>0.2</td>\n",
       "      <td>0</td>\n",
       "    </tr>\n",
       "    <tr>\n",
       "      <th>2</th>\n",
       "      <td>4.7</td>\n",
       "      <td>3.2</td>\n",
       "      <td>1.3</td>\n",
       "      <td>0.2</td>\n",
       "      <td>0</td>\n",
       "    </tr>\n",
       "  </tbody>\n",
       "</table>\n",
       "</div>"
      ],
      "text/plain": [
       "   sepal_length  sepal_width  petal_length  petal_width  species\n",
       "0           5.1          3.5           1.4          0.2        0\n",
       "1           4.9          3.0           1.4          0.2        0\n",
       "2           4.7          3.2           1.3          0.2        0"
      ]
     },
     "execution_count": 8,
     "metadata": {},
     "output_type": "execute_result"
    }
   ],
   "source": [
    "# transform species labels to numbers\n",
    "\n",
    "le = preprocessing.LabelEncoder()\n",
    "le.fit(iris.species.unique())\n",
    "species = le.transform(iris.species)\n",
    "iris.species = species\n",
    "iris.head(3)"
   ]
  },
  {
   "cell_type": "code",
   "execution_count": 9,
   "metadata": {
    "scrolled": true
   },
   "outputs": [
    {
     "data": {
      "text/html": [
       "<div>\n",
       "<style scoped>\n",
       "    .dataframe tbody tr th:only-of-type {\n",
       "        vertical-align: middle;\n",
       "    }\n",
       "\n",
       "    .dataframe tbody tr th {\n",
       "        vertical-align: top;\n",
       "    }\n",
       "\n",
       "    .dataframe thead th {\n",
       "        text-align: right;\n",
       "    }\n",
       "</style>\n",
       "<table border=\"1\" class=\"dataframe\">\n",
       "  <thead>\n",
       "    <tr style=\"text-align: right;\">\n",
       "      <th></th>\n",
       "      <th>sepal_length</th>\n",
       "      <th>sepal_width</th>\n",
       "      <th>petal_length</th>\n",
       "      <th>petal_width</th>\n",
       "      <th>species</th>\n",
       "    </tr>\n",
       "  </thead>\n",
       "  <tbody>\n",
       "    <tr>\n",
       "      <th>86</th>\n",
       "      <td>6.7</td>\n",
       "      <td>3.1</td>\n",
       "      <td>4.7</td>\n",
       "      <td>1.5</td>\n",
       "      <td>1</td>\n",
       "    </tr>\n",
       "    <tr>\n",
       "      <th>5</th>\n",
       "      <td>5.4</td>\n",
       "      <td>3.9</td>\n",
       "      <td>1.7</td>\n",
       "      <td>0.4</td>\n",
       "      <td>0</td>\n",
       "    </tr>\n",
       "    <tr>\n",
       "      <th>129</th>\n",
       "      <td>7.2</td>\n",
       "      <td>3.0</td>\n",
       "      <td>5.8</td>\n",
       "      <td>1.6</td>\n",
       "      <td>2</td>\n",
       "    </tr>\n",
       "  </tbody>\n",
       "</table>\n",
       "</div>"
      ],
      "text/plain": [
       "     sepal_length  sepal_width  petal_length  petal_width  species\n",
       "86            6.7          3.1           4.7          1.5        1\n",
       "5             5.4          3.9           1.7          0.4        0\n",
       "129           7.2          3.0           5.8          1.6        2"
      ]
     },
     "execution_count": 9,
     "metadata": {},
     "output_type": "execute_result"
    }
   ],
   "source": [
    "# train test splitting\n",
    "X_train_2, X_predict_2 = train_test_split(iris)\n",
    "X_train_2.head(3)"
   ]
  },
  {
   "cell_type": "code",
   "execution_count": 10,
   "metadata": {},
   "outputs": [],
   "source": [
    "# KNN of second dataset (with 4 features)\n",
    "class_pred = KNN(X_train_2.values, X_predict_2.values, k=3)\n",
    "class_true = X_predict_2.species.values"
   ]
  },
  {
   "cell_type": "code",
   "execution_count": 11,
   "metadata": {},
   "outputs": [
    {
     "data": {
      "text/plain": [
       "(array([1., 0., 1., 0., 1., 2., 1., 1., 0., 1., 2., 0., 2., 2., 1., 2., 1.,\n",
       "        2., 1., 2., 2., 2., 1., 0., 1., 0., 0., 2., 0., 2., 2., 0., 0., 1.,\n",
       "        0., 2., 0., 2.]),\n",
       " array([1, 0, 1, 0, 1, 1, 1, 1, 0, 2, 2, 0, 2, 2, 1, 2, 1, 2, 1, 2, 2, 2,\n",
       "        1, 0, 1, 0, 0, 2, 0, 2, 2, 0, 0, 1, 0, 2, 0, 2]))"
      ]
     },
     "execution_count": 11,
     "metadata": {},
     "output_type": "execute_result"
    }
   ],
   "source": [
    "np.array(class_pred), class_true"
   ]
  },
  {
   "cell_type": "code",
   "execution_count": 12,
   "metadata": {},
   "outputs": [
    {
     "data": {
      "text/plain": [
       "0.9473684210526315"
      ]
     },
     "execution_count": 12,
     "metadata": {},
     "output_type": "execute_result"
    }
   ],
   "source": [
    "from sklearn.metrics import accuracy_score\n",
    "\n",
    "accuracy_score(class_pred, class_true)"
   ]
  },
  {
   "cell_type": "code",
   "execution_count": 13,
   "metadata": {},
   "outputs": [
    {
     "data": {
      "image/png": "[encoded data removed]",
      "text/plain": [
       "<Figure size 576x360 with 1 Axes>"
      ]
     },
     "metadata": {
      "needs_background": "light"
     },
     "output_type": "display_data"
    }
   ],
   "source": [
    "# check if predicted values are reasonable by plotting (without border = training data, with border = predicted data)\n",
    "\n",
    "fig, ax = plt.subplots(figsize=(8,5))\n",
    "\n",
    "# training points\n",
    "x_train = X_train_2.sepal_length * X_train_2.sepal_width\n",
    "y_train = X_train_2.petal_length * X_train_2.petal_width\n",
    "plt.scatter(x_train,y_train,c=X_train_2.species,s=50, cmap='cool', alpha=0.8)\n",
    "\n",
    "# predicted points\n",
    "x_pred = X_predict_2.sepal_length * X_predict_2.sepal_width\n",
    "y_pred = X_predict_2.petal_length * X_predict_2.petal_width\n",
    "plt.scatter(x_pred,y_pred,c=np.array(class_pred),s=50, cmap='cool', alpha=0.8, edgecolor='k')\n",
    "\n",
    "plt.xlabel('sepal area')\n",
    "plt.ylabel('petal area');"
   ]
  }
 ],
 "metadata": {
  "kernelspec": {
   "display_name": "Python 3",
   "language": "python",
   "name": "python3"
  },
  "language_info": {
   "codemirror_mode": {
    "name": "ipython",
    "version": 3
   },
   "file_extension": ".py",
   "mimetype": "text/x-python",
   "name": "python",
   "nbconvert_exporter": "python",
   "pygments_lexer": "ipython3",
   "version": "3.6.6"
  }
 },
 "nbformat": 4,
 "nbformat_minor": 2
}
